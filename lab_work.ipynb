{
 "cells": [
  {
   "cell_type": "markdown",
   "metadata": {},
   "source": [
    "# Лабораторная работа по модулю “Python для анализа данных” \n",
    "# (задание - 22.12.2018, сделано - 24.12.2018)"
   ]
  },
  {
   "cell_type": "markdown",
   "metadata": {},
   "source": [
    "'''Списки и строки –одни из важных начальных понятий для любого дата сайентиста,\n",
    "поскольку на знании принципов работы с ними строится работа с препроцессингоми обработкой данных \n",
    "в python в целоми работы с модулем pandas в частности:'''\n",
    " \n",
    " 1.Дан произвольный список, содержащий только числа. Выведите результат сложения всех чисел больше 10."
   ]
  },
  {
   "cell_type": "code",
   "execution_count": 7,
   "metadata": {},
   "outputs": [],
   "source": [
    "lst_nums = [1, 12, 5, 30, 10, 40]"
   ]
  },
  {
   "cell_type": "code",
   "execution_count": 8,
   "metadata": {},
   "outputs": [
    {
     "name": "stdout",
     "output_type": "stream",
     "text": [
      "82\n"
     ]
    }
   ],
   "source": [
    "sum_nums = sum([i for i in lst_nums if i > 10])\n",
    "print(sum_nums)"
   ]
  },
  {
   "cell_type": "markdown",
   "metadata": {},
   "source": [
    "2.Пусть задан список, содержащий строки.Выведите все строки, заканчивающиеся буквой r."
   ]
  },
  {
   "cell_type": "code",
   "execution_count": 9,
   "metadata": {},
   "outputs": [],
   "source": [
    "lst_strings = ['Star','Ringo', 'Gilmour', 'David', 'Carrager', 'Jamie']"
   ]
  },
  {
   "cell_type": "code",
   "execution_count": 10,
   "metadata": {},
   "outputs": [
    {
     "name": "stdout",
     "output_type": "stream",
     "text": [
      "['Star', 'Gilmour', 'Carrager']\n"
     ]
    }
   ],
   "source": [
    "lst_fin_r = [i for i in lst_strings if i[-1] == 'r']\n",
    "print(lst_fin_r)"
   ]
  },
  {
   "cell_type": "markdown",
   "metadata": {},
   "source": [
    "3.Сгенерируйте и выведите cлучайную строку размером 6 символов, содержащую только цифры. Строка должна содержать хотя бы одну цифру 3"
   ]
  },
  {
   "cell_type": "code",
   "execution_count": 37,
   "metadata": {},
   "outputs": [
    {
     "name": "stdout",
     "output_type": "stream",
     "text": [
      "164647\n",
      "164643\n"
     ]
    }
   ],
   "source": [
    "import random\n",
    "rand_s = str( random.randint(100000, 999999) )\n",
    "print(rand_s)\n",
    "if '3' not in rand_s:\n",
    "    rand_s = rand_s[:-1] + '3'\n",
    "print(rand_s)"
   ]
  },
  {
   "cell_type": "markdown",
   "metadata": {},
   "source": [
    "4.Пусть дана строка произвольной длины. Выведите информацию о том,сколько в ней символов и сколько слов"
   ]
  },
  {
   "cell_type": "code",
   "execution_count": 40,
   "metadata": {},
   "outputs": [
    {
     "name": "stdout",
     "output_type": "stream",
     "text": [
      "Кол-во символов в строке = 100\n"
     ]
    }
   ],
   "source": [
    "str_line = '''Python trim или strip - часто используемое название, которая: \n",
    "удаляет начальные и конечные пробелы.'''\n",
    "print('Кол-во символов в строке = {}'.format(len(str_line)) )"
   ]
  },
  {
   "cell_type": "code",
   "execution_count": 53,
   "metadata": {},
   "outputs": [
    {
     "name": "stdout",
     "output_type": "stream",
     "text": [
      "Python trim или strip часто используемое название которая удаляет начальные и конечные пробелы\n"
     ]
    }
   ],
   "source": [
    "str_replace = ''.join([s for s in str_line if s not in ['.', ',', '-', '!', '?', ':', ';', '\\n'] ]).replace('  ', ' ')\n",
    "print(str_replace)"
   ]
  },
  {
   "cell_type": "code",
   "execution_count": 54,
   "metadata": {},
   "outputs": [
    {
     "name": "stdout",
     "output_type": "stream",
     "text": [
      "Кол-во слов в строке = 13\n"
     ]
    }
   ],
   "source": [
    "print('Кол-во слов в строке = {}'.format(len(str_replace.split(' '))) )"
   ]
  },
  {
   "cell_type": "markdown",
   "metadata": {},
   "source": [
    "Матрицы-следующее за списками и строками важное понятие.Широко используется в линейной алгебре.\n",
    "Находит свое применение в современных рекомендательных системах и архитектуре нейронных сетей:"
   ]
  },
  {
   "cell_type": "markdown",
   "metadata": {},
   "source": [
    "1.Пусть дана матрица чисел размером NхN. Представьте данную матрицу в виде списка. \n",
    "Выведите результат сложения всех элементов матрицы."
   ]
  },
  {
   "cell_type": "code",
   "execution_count": 55,
   "metadata": {},
   "outputs": [],
   "source": [
    "import numpy as np\n",
    "import pandas as pd"
   ]
  },
  {
   "cell_type": "code",
   "execution_count": 73,
   "metadata": {},
   "outputs": [
    {
     "data": {
      "text/plain": [
       "array([[1, 2, 3],\n",
       "       [4, 5, 6],\n",
       "       [7, 8, 9]])"
      ]
     },
     "execution_count": 73,
     "metadata": {},
     "output_type": "execute_result"
    }
   ],
   "source": [
    "matrix_1 = np.array([[1 ,2, 3],\n",
    "                     [4, 5, 6],\n",
    "                     [7, 8, 9]])\n",
    "matrix_1"
   ]
  },
  {
   "cell_type": "code",
   "execution_count": 105,
   "metadata": {},
   "outputs": [
    {
     "name": "stdout",
     "output_type": "stream",
     "text": [
      "[1, 2, 3, 4, 5, 6, 7, 8, 9]\n"
     ]
    }
   ],
   "source": [
    "lst_matrix_1 = []\n",
    "for row in range(matrix_1.shape[0]):\n",
    "    lst_matrix_1.extend( list(matrix_1[row]) )\n",
    "print(lst_matrix_1)"
   ]
  },
  {
   "cell_type": "markdown",
   "metadata": {},
   "source": [
    "2.Пусть дана матрица чисел размером NхM. Найти столбец матрицы с максимальной суммой элементов."
   ]
  },
  {
   "cell_type": "code",
   "execution_count": 116,
   "metadata": {},
   "outputs": [
    {
     "data": {
      "text/plain": [
       "array([[ 1,  2,  3],\n",
       "       [ 4,  5,  6],\n",
       "       [ 7,  8,  9],\n",
       "       [10, 11, 12]])"
      ]
     },
     "execution_count": 116,
     "metadata": {},
     "output_type": "execute_result"
    }
   ],
   "source": [
    "matrix_2 = np.array([[1, 2, 3],\n",
    "                     [4, 5, 6],\n",
    "                     [7, 8, 9],\n",
    "                     [10, 11, 12]])\n",
    "matrix_2"
   ]
  },
  {
   "cell_type": "code",
   "execution_count": 115,
   "metadata": {},
   "outputs": [
    {
     "name": "stdout",
     "output_type": "stream",
     "text": [
      "Максимальная сумма элементов - 30 в столбце - 2\n"
     ]
    }
   ],
   "source": [
    "max_col_sum = 0\n",
    "max_col_num = -1\n",
    "for i in range( matrix_2.shape[1] ):\n",
    "    if max_col_sum < matrix_2[:, i].sum():\n",
    "        max_col_sum = matrix_2[:, i].sum()\n",
    "        max_col_num = i\n",
    "print('Максимальная сумма элементов - {} в столбце - {}'.format(max_col_sum, max_col_num) )"
   ]
  },
  {
   "cell_type": "markdown",
   "metadata": {},
   "source": [
    "Работа с динамичными структурами важная часть в имплементации вашего кода в продакшн систему:"
   ]
  },
  {
   "cell_type": "markdown",
   "metadata": {},
   "source": [
    "1.Пусть список студентов представлен в виде структуры \n",
    "[[No, ФИО, Возраст,Группа],[No, ФИО, Возраст, Группа],[No, ФИО, Возраст, Группа]]. \n",
    "Преобразуйте список в словарь вида: {No: [ФИО, Возраст, Группа], No:[....], No: [....]}"
   ]
  },
  {
   "cell_type": "code",
   "execution_count": 127,
   "metadata": {},
   "outputs": [],
   "source": [
    "lst_students = [[1, 'Beck Jeff', 73, 'Yardbirds'],\n",
    "                [2, 'Clapton Eric', 74, 'Yardbirds'],\n",
    "                [3, 'Gilmour David', 72, 'Pink Floyd']]"
   ]
  },
  {
   "cell_type": "code",
   "execution_count": 128,
   "metadata": {},
   "outputs": [
    {
     "name": "stdout",
     "output_type": "stream",
     "text": [
      "{1: ['Beck Jeff', 73, 'Yardbirds'], 2: ['Clapton Eric', 74, 'Yardbirds'], 3: ['Gilmour David', 72, 'Pink Floyd']}\n"
     ]
    }
   ],
   "source": [
    "dict_students = {k: v for k, *v in lst_students}\n",
    "print(dict_students)"
   ]
  },
  {
   "cell_type": "markdown",
   "metadata": {},
   "source": [
    "2.Добавьте к задаче No6 для словаря возможность (без преобразования словаря обратно в список) изменить группу студента. Поиск по «ФИО» («ФИО» студента и новый номер группы необходимо ввести с клавиатуры)."
   ]
  },
  {
   "cell_type": "code",
   "execution_count": 129,
   "metadata": {},
   "outputs": [],
   "source": [
    "def set_group(p_fio, p_name_group):\n",
    "    for r, v in dict_students.items():\n",
    "        if v[0] == p_fio:\n",
    "            v[2] = p_name_group"
   ]
  },
  {
   "cell_type": "code",
   "execution_count": 131,
   "metadata": {},
   "outputs": [
    {
     "name": "stdout",
     "output_type": "stream",
     "text": [
      "Name:h\n",
      "h\n",
      "New group number:h\n",
      "h\n"
     ]
    }
   ],
   "source": [
    "fio = input('Name:')\n",
    "print(fio)\n",
    "group_name = input('New group number:')\n",
    "print(group_name)\n",
    "\n",
    "set_group(fio, group_name)"
   ]
  },
  {
   "cell_type": "code",
   "execution_count": 132,
   "metadata": {},
   "outputs": [
    {
     "name": "stdout",
     "output_type": "stream",
     "text": [
      "{1: ['Beck Jeff', 73, 'Yardbirds'], 2: ['Clapton Eric', 74, 'Cream'], 3: ['Gilmour David', 72, 'Pink Floyd']}\n"
     ]
    }
   ],
   "source": [
    "print(dict_students)"
   ]
  },
  {
   "cell_type": "markdown",
   "metadata": {},
   "source": [
    "3.Добавьте к задаче No6 для словаря возможность (без преобразования словаря обратно в список) изменить возраст студента."
   ]
  },
  {
   "cell_type": "code",
   "execution_count": 134,
   "metadata": {},
   "outputs": [],
   "source": [
    "def set_age(p_dict_students, p_fio, p_age):\n",
    "    for v in p_dict_students.values():\n",
    "        if v[0] == p_fio:\n",
    "            v[1] = p_age"
   ]
  },
  {
   "cell_type": "code",
   "execution_count": 138,
   "metadata": {},
   "outputs": [
    {
     "name": "stdout",
     "output_type": "stream",
     "text": [
      "{1: ['Beck Jeff', 70, 'Yardbirds'],\n",
      " 2: ['Clapton Eric', 74, 'Cream'],\n",
      " 3: ['Gilmour David', 72, 'Pink Floyd']}\n"
     ]
    }
   ],
   "source": [
    "from pprint import pprint\n",
    "set_age(dict_students, 'Beck Jeff', 70)\n",
    "pprint(dict_students)"
   ]
  },
  {
   "cell_type": "code",
   "execution_count": null,
   "metadata": {},
   "outputs": [],
   "source": []
  }
 ],
 "metadata": {
  "kernelspec": {
   "display_name": "Python 3",
   "language": "python",
   "name": "python3"
  },
  "language_info": {
   "codemirror_mode": {
    "name": "ipython",
    "version": 3
   },
   "file_extension": ".py",
   "mimetype": "text/x-python",
   "name": "python",
   "nbconvert_exporter": "python",
   "pygments_lexer": "ipython3",
   "version": "3.7.0"
  }
 },
 "nbformat": 4,
 "nbformat_minor": 2
}
